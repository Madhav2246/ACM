{
  "nbformat": 4,
  "nbformat_minor": 0,
  "metadata": {
    "colab": {
      "provenance": []
    },
    "kernelspec": {
      "name": "python3",
      "display_name": "Python 3"
    },
    "language_info": {
      "name": "python"
    }
  },
  "cells": [
    {
      "cell_type": "code",
      "source": [
        "!pip3 install -U ucimlrepo"
      ],
      "metadata": {
        "colab": {
          "base_uri": "https://localhost:8080/"
        },
        "id": "0AY4h7Us1eye",
        "outputId": "dc1928f9-20e3-4add-ccbb-ca8efcc07bc1"
      },
      "execution_count": 47,
      "outputs": [
        {
          "output_type": "stream",
          "name": "stdout",
          "text": [
            "Requirement already satisfied: ucimlrepo in /usr/local/lib/python3.10/dist-packages (0.0.3)\n"
          ]
        }
      ]
    },
    {
      "cell_type": "code",
      "source": [
        "import numpy as np\n",
        "import pandas as pd\n",
        "import matplotlib.pyplot as plt\n",
        "import seaborn as sns"
      ],
      "metadata": {
        "id": "EekA6qAZ0m_Z"
      },
      "execution_count": 45,
      "outputs": []
    },
    {
      "cell_type": "code",
      "source": [
        "from sklearn.model_selection import train_test_split\n",
        "from sklearn.preprocessing import LabelEncoder, StandardScaler\n",
        "from sklearn.preprocessing import label_binarize\n",
        "from sklearn.linear_model import LogisticRegression\n",
        "from sklearn.tree import DecisionTreeClassifier\n",
        "from sklearn.ensemble import RandomForestClassifier\n",
        "from sklearn.svm import SVC\n",
        "from sklearn.neighbors import KNeighborsClassifier\n",
        "from sklearn.metrics import accuracy_score, precision_score, recall_score, f1_score, roc_curve, roc_auc_score"
      ],
      "metadata": {
        "id": "VEsUIgsD1Ecm"
      },
      "execution_count": 85,
      "outputs": []
    },
    {
      "cell_type": "code",
      "source": [
        "from ucimlrepo import fetch_ucirepo"
      ],
      "metadata": {
        "id": "uDXRjhah1LiH"
      },
      "execution_count": 48,
      "outputs": []
    },
    {
      "cell_type": "code",
      "source": [
        "# Loading the Car Evaluation dataset\n",
        "url = \"https://archive.ics.uci.edu/ml/machine-learning-databases/car/car.data\"\n",
        "column_names = ['buying', 'maint', 'doors', 'persons', 'lug_boot', 'safety', 'class']\n",
        "car_data = pd.read_csv(url, names=column_names)\n",
        "\n",
        "# Extracting the target variable\n",
        "X = car_data.drop('class', axis=1)\n",
        "y = car_data['class']\n",
        "\n",
        "# Displaying the first few rows of the dataset\n",
        "\n"
      ],
      "metadata": {
        "id": "Sxhl7HAe1sJl"
      },
      "execution_count": 59,
      "outputs": []
    },
    {
      "cell_type": "code",
      "source": [
        "print(car_data.head())"
      ],
      "metadata": {
        "colab": {
          "base_uri": "https://localhost:8080/"
        },
        "id": "jZR4Y7jo1-HW",
        "outputId": "82d8262a-bf63-43ed-fa79-61bff6e459eb"
      },
      "execution_count": 60,
      "outputs": [
        {
          "output_type": "stream",
          "name": "stdout",
          "text": [
            "  buying  maint doors persons lug_boot safety  class\n",
            "0  vhigh  vhigh     2       2    small    low  unacc\n",
            "1  vhigh  vhigh     2       2    small    med  unacc\n",
            "2  vhigh  vhigh     2       2    small   high  unacc\n",
            "3  vhigh  vhigh     2       2      med    low  unacc\n",
            "4  vhigh  vhigh     2       2      med    med  unacc\n"
          ]
        }
      ]
    },
    {
      "cell_type": "code",
      "source": [
        "label_encoder = LabelEncoder()\n",
        "car_data_encoded = car_data.apply(label_encoder.fit_transform)"
      ],
      "metadata": {
        "id": "-6eyIIUo2FW-"
      },
      "execution_count": 52,
      "outputs": []
    },
    {
      "cell_type": "code",
      "source": [
        "X_encoded = pd.get_dummies(X, drop_first=True)"
      ],
      "metadata": {
        "id": "k9xJLyOk3tAI"
      },
      "execution_count": 63,
      "outputs": []
    },
    {
      "cell_type": "code",
      "source": [
        "X_train, X_test, y_train, y_test = train_test_split(X_encoded, y, test_size=0.2, random_state=42)"
      ],
      "metadata": {
        "id": "Sji73HXu2KR7"
      },
      "execution_count": 64,
      "outputs": []
    },
    {
      "cell_type": "code",
      "source": [
        "scaler = StandardScaler()\n",
        "X_train_scaled = scaler.fit_transform(X_train)\n",
        "X_test_scaled = scaler.transform(X_test)"
      ],
      "metadata": {
        "id": "g3EyRxmd3O8C"
      },
      "execution_count": 65,
      "outputs": []
    },
    {
      "cell_type": "code",
      "source": [
        "lr_model = LogisticRegression()\n",
        "lr_model.fit(X_train_scaled, y_train)\n",
        "lr_pred = lr_model.predict(X_test_scaled)"
      ],
      "metadata": {
        "id": "Ql1Ey_Hx35xH"
      },
      "execution_count": 66,
      "outputs": []
    },
    {
      "cell_type": "code",
      "source": [
        "dt_model = DecisionTreeClassifier()\n",
        "dt_model.fit(X_train_scaled, y_train)\n",
        "dt_pred = dt_model.predict(X_test_scaled)"
      ],
      "metadata": {
        "id": "wMciHQY439MZ"
      },
      "execution_count": 67,
      "outputs": []
    },
    {
      "cell_type": "code",
      "source": [
        "rf_model = RandomForestClassifier()\n",
        "rf_model.fit(X_train_scaled, y_train)\n",
        "rf_pred = rf_model.predict(X_test_scaled)\n"
      ],
      "metadata": {
        "id": "cshAFOIm4AMh"
      },
      "execution_count": 70,
      "outputs": []
    },
    {
      "cell_type": "code",
      "source": [
        "svm_model = SVC(probability=True)\n",
        "svm_model.fit(X_train_scaled, y_train)\n",
        "svm_pred = svm_model.predict(X_test_scaled)\n"
      ],
      "metadata": {
        "id": "Kmt3q7t_4-tK"
      },
      "execution_count": 72,
      "outputs": []
    },
    {
      "cell_type": "code",
      "source": [
        "knn_model = KNeighborsClassifier()\n",
        "knn_model.fit(X_train_scaled, y_train)\n",
        "knn_pred = knn_model.predict(X_test_scaled)"
      ],
      "metadata": {
        "id": "h7xWMKed4Bj-"
      },
      "execution_count": 74,
      "outputs": []
    },
    {
      "cell_type": "code",
      "source": [
        "models = ['Logistic Regression', 'Decision Tree', 'Random Forest', 'SVM', 'KNN']\n",
        "predictions = [lr_pred, dt_pred, rf_pred, svm_pred, knn_pred]"
      ],
      "metadata": {
        "id": "BJdAo5J_4EPf"
      },
      "execution_count": 75,
      "outputs": []
    },
    {
      "cell_type": "code",
      "source": [
        "for i, pred in enumerate(predictions):\n",
        "    accuracy = accuracy_score(y_test, pred)\n",
        "    precision = precision_score(y_test, pred, average='weighted')\n",
        "    recall = recall_score(y_test, pred, average='weighted')\n",
        "    f1 = f1_score(y_test, pred, average='weighted')\n",
        "    print(f\"{models[i]}: Accuracy = {accuracy}, Precision = {precision}, Recall = {recall}, F1-score = {f1}\")"
      ],
      "metadata": {
        "colab": {
          "base_uri": "https://localhost:8080/"
        },
        "id": "uyYWdpYm5I1x",
        "outputId": "ead45f44-c13b-4076-f4c6-be19c7db0ce1"
      },
      "execution_count": 76,
      "outputs": [
        {
          "output_type": "stream",
          "name": "stdout",
          "text": [
            "Logistic Regression: Accuracy = 0.9277456647398844, Precision = 0.9305625741785836, Recall = 0.9277456647398844, F1-score = 0.9283216269377726\n",
            "Decision Tree: Accuracy = 0.8901734104046243, Precision = 0.8927087566120119, Recall = 0.8901734104046243, F1-score = 0.8881723753611539\n",
            "Random Forest: Accuracy = 0.8901734104046243, Precision = 0.8938196697262487, Recall = 0.8901734104046243, F1-score = 0.8842158935286745\n",
            "SVM: Accuracy = 0.9508670520231214, Precision = 0.9569573811542991, Recall = 0.9508670520231214, F1-score = 0.9525710141268654\n",
            "KNN: Accuracy = 0.791907514450867, Precision = 0.7459861856659933, Recall = 0.791907514450867, F1-score = 0.7645000876091139\n"
          ]
        },
        {
          "output_type": "stream",
          "name": "stderr",
          "text": [
            "/usr/local/lib/python3.10/dist-packages/sklearn/metrics/_classification.py:1344: UndefinedMetricWarning: Precision is ill-defined and being set to 0.0 in labels with no predicted samples. Use `zero_division` parameter to control this behavior.\n",
            "  _warn_prf(average, modifier, msg_start, len(result))\n"
          ]
        }
      ]
    },
    {
      "cell_type": "code",
      "source": [
        "svm_probs = svm_model.predict_proba(X_test_scaled)\n",
        "svm_probs = svm_probs[:, 1]\n",
        "svm_probs_reshaped = svm_probs.reshape(-1, 1)\n",
        "\n",
        "# Binarize the labels for each class\n",
        "y_test_bin = label_binarize(y_test, classes=['unacc', 'acc', 'good', 'vgood'])\n",
        "\n",
        "svm_auc = roc_auc_score(y_test_bin, svm_probs_reshaped, multi_class='ovr')\n",
        "\n",
        "print(f\"SVM AUC: {svm_auc}\")"
      ],
      "metadata": {
        "colab": {
          "base_uri": "https://localhost:8080/"
        },
        "id": "q8TTq1dp5P6G",
        "outputId": "0971dfa8-b307-4155-9e1a-193c396538bd"
      },
      "execution_count": 88,
      "outputs": [
        {
          "output_type": "stream",
          "name": "stdout",
          "text": [
            "SVM AUC: 0.04608012267586735\n"
          ]
        }
      ]
    },
    {
      "cell_type": "code",
      "source": [
        "print(np.sum(svm_probs, axis=0))\n",
        "\n"
      ],
      "metadata": {
        "id": "b1T2ZUMx50a0"
      },
      "execution_count": null,
      "outputs": []
    },
    {
      "cell_type": "code",
      "source": [
        "print(y_test)\n",
        "print(y_test.shape)\n"
      ],
      "metadata": {
        "id": "iTmfdv4N6N_6"
      },
      "execution_count": null,
      "outputs": []
    },
    {
      "cell_type": "code",
      "source": [
        "svm_probs_2d = svm_probs.reshape(-1, 1)\n",
        "\n",
        "# Compute ROC curve for each class\n",
        "fpr = dict()\n",
        "tpr = dict()\n",
        "for i in range(len(classes)):\n",
        "    fpr[i], tpr[i], _ = roc_curve(y_test_bin[:, i], svm_probs_2d)\n",
        "\n",
        "# Plot ROC curve for each class\n",
        "plt.figure()\n",
        "for i in range(len(classes)):\n",
        "    plt.plot(fpr[i], tpr[i], label=f'Class {classes[i]}')\n",
        "plt.xlabel('False Positive Rate')\n",
        "plt.ylabel('True Positive Rate')\n",
        "plt.title('ROC Curve for SVM')\n",
        "plt.legend()\n",
        "plt.show()"
      ],
      "metadata": {
        "colab": {
          "base_uri": "https://localhost:8080/",
          "height": 472
        },
        "id": "LiR_owTy7Jn5",
        "outputId": "4ad0df3c-2877-4f4f-cb48-398b8356c475"
      },
      "execution_count": 92,
      "outputs": [
        {
          "output_type": "display_data",
          "data": {
            "text/plain": [
              "<Figure size 640x480 with 1 Axes>"
            ],
            "image/png": "[encoded data removed]"
          },
          "metadata": {}
        }
      ]
    }
  ]
}